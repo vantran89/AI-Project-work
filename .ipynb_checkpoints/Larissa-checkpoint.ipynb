{
 "cells": [
  {
   "cell_type": "markdown",
   "id": "51655334",
   "metadata": {},
   "source": [
    "# Group F\n",
    "\n",
    "Groupmembers are:\n",
    "\n",
    "\n",
    "|Gender|Firstname|Surname|Email| Study program| Semester| Student ID|\n",
    "|:----:|:--------|:------|:----|:----------|:------------|:--------|\n",
    "| f | Larissa | Jesus | student@student.uni-siegen.de| HCI| 4|1234|\n",
    "| f |Cam Van|Tran Thi\t|student@student.uni-siegen.de|HCI|4|1234|\n",
    "| m |Roberto|Surname|student@student.uni-siegen.de|HCI|1|1234|\n",
    "\n",
    "    \n",
    "**Course**: First steps into Artificial Intelligence: Organization & Introduction\n",
    "\n",
    "**Examiner**: Prof. Dr. Thomas Ludwig\n",
    "\n",
    "**Semester**: Summersemester 2022\n",
    "\n",
    "**Submission date**: 31. July 2022\n",
    "\n",
    "**City**: Siegen, Germany"
   ]
  },
  {
   "cell_type": "markdown",
   "id": "b3ffd7c1",
   "metadata": {},
   "source": [
    "## Imports\n",
    "Following imports and addtional installations are needed:"
   ]
  },
  {
   "cell_type": "code",
   "execution_count": 4,
   "id": "0801ebdd",
   "metadata": {},
   "outputs": [],
   "source": [
    "#Importing the necessary libraries for the data mining process\n",
    "import numpy as np\n",
    "import pandas as pd\n",
    "import matplotlib.pyplot as plt"
   ]
  },
  {
   "cell_type": "code",
   "execution_count": 5,
   "id": "258ae5ab",
   "metadata": {},
   "outputs": [],
   "source": [
    "#Importing the dataset\n",
    "datapath = \"data/diamonds_FSAI_SoSe22.csv\"\n",
    "raw_df = pd.read_csv(datapath, index_col = 0)"
   ]
  },
  {
   "cell_type": "markdown",
   "id": "0da31a2e",
   "metadata": {},
   "source": [
    "## Business Understanding"
   ]
  },
  {
   "cell_type": "markdown",
   "id": "ce25ab26",
   "metadata": {},
   "source": [
    "## Data Understanding"
   ]
  },
  {
   "cell_type": "code",
   "execution_count": 6,
   "id": "ac6382ad",
   "metadata": {},
   "outputs": [
    {
     "data": {
      "text/plain": [
       "(45849, 10)"
      ]
     },
     "execution_count": 6,
     "metadata": {},
     "output_type": "execute_result"
    }
   ],
   "source": [
    "#Checking the shape of the dataset\n",
    "raw_df.shape"
   ]
  },
  {
   "cell_type": "code",
   "execution_count": 7,
   "id": "2021b6e0",
   "metadata": {},
   "outputs": [
    {
     "data": {
      "text/html": [
       "<div>\n",
       "<style scoped>\n",
       "    .dataframe tbody tr th:only-of-type {\n",
       "        vertical-align: middle;\n",
       "    }\n",
       "\n",
       "    .dataframe tbody tr th {\n",
       "        vertical-align: top;\n",
       "    }\n",
       "\n",
       "    .dataframe thead th {\n",
       "        text-align: right;\n",
       "    }\n",
       "</style>\n",
       "<table border=\"1\" class=\"dataframe\">\n",
       "  <thead>\n",
       "    <tr style=\"text-align: right;\">\n",
       "      <th></th>\n",
       "      <th>carat</th>\n",
       "      <th>depth</th>\n",
       "      <th>table</th>\n",
       "      <th>price</th>\n",
       "      <th>x</th>\n",
       "      <th>y</th>\n",
       "      <th>z</th>\n",
       "    </tr>\n",
       "  </thead>\n",
       "  <tbody>\n",
       "    <tr>\n",
       "      <th>count</th>\n",
       "      <td>45849.000000</td>\n",
       "      <td>45849.000000</td>\n",
       "      <td>45849.000000</td>\n",
       "      <td>45849.000000</td>\n",
       "      <td>45849.000000</td>\n",
       "      <td>45849.000000</td>\n",
       "      <td>45849.000000</td>\n",
       "    </tr>\n",
       "    <tr>\n",
       "      <th>mean</th>\n",
       "      <td>0.797251</td>\n",
       "      <td>61.749371</td>\n",
       "      <td>57.456823</td>\n",
       "      <td>3925.804772</td>\n",
       "      <td>5.729115</td>\n",
       "      <td>5.732836</td>\n",
       "      <td>3.537766</td>\n",
       "    </tr>\n",
       "    <tr>\n",
       "      <th>std</th>\n",
       "      <td>0.473729</td>\n",
       "      <td>1.436693</td>\n",
       "      <td>2.234886</td>\n",
       "      <td>3982.937163</td>\n",
       "      <td>1.122093</td>\n",
       "      <td>1.147394</td>\n",
       "      <td>0.707841</td>\n",
       "    </tr>\n",
       "    <tr>\n",
       "      <th>min</th>\n",
       "      <td>0.200000</td>\n",
       "      <td>43.000000</td>\n",
       "      <td>43.000000</td>\n",
       "      <td>326.000000</td>\n",
       "      <td>0.000000</td>\n",
       "      <td>0.000000</td>\n",
       "      <td>0.000000</td>\n",
       "    </tr>\n",
       "    <tr>\n",
       "      <th>25%</th>\n",
       "      <td>0.400000</td>\n",
       "      <td>61.000000</td>\n",
       "      <td>56.000000</td>\n",
       "      <td>948.000000</td>\n",
       "      <td>4.710000</td>\n",
       "      <td>4.720000</td>\n",
       "      <td>2.910000</td>\n",
       "    </tr>\n",
       "    <tr>\n",
       "      <th>50%</th>\n",
       "      <td>0.700000</td>\n",
       "      <td>61.800000</td>\n",
       "      <td>57.000000</td>\n",
       "      <td>2398.000000</td>\n",
       "      <td>5.700000</td>\n",
       "      <td>5.710000</td>\n",
       "      <td>3.520000</td>\n",
       "    </tr>\n",
       "    <tr>\n",
       "      <th>75%</th>\n",
       "      <td>1.040000</td>\n",
       "      <td>62.500000</td>\n",
       "      <td>59.000000</td>\n",
       "      <td>5327.000000</td>\n",
       "      <td>6.540000</td>\n",
       "      <td>6.540000</td>\n",
       "      <td>4.030000</td>\n",
       "    </tr>\n",
       "    <tr>\n",
       "      <th>max</th>\n",
       "      <td>5.010000</td>\n",
       "      <td>79.000000</td>\n",
       "      <td>95.000000</td>\n",
       "      <td>18818.000000</td>\n",
       "      <td>10.740000</td>\n",
       "      <td>58.900000</td>\n",
       "      <td>31.800000</td>\n",
       "    </tr>\n",
       "  </tbody>\n",
       "</table>\n",
       "</div>"
      ],
      "text/plain": [
       "              carat         depth         table         price             x  \\\n",
       "count  45849.000000  45849.000000  45849.000000  45849.000000  45849.000000   \n",
       "mean       0.797251     61.749371     57.456823   3925.804772      5.729115   \n",
       "std        0.473729      1.436693      2.234886   3982.937163      1.122093   \n",
       "min        0.200000     43.000000     43.000000    326.000000      0.000000   \n",
       "25%        0.400000     61.000000     56.000000    948.000000      4.710000   \n",
       "50%        0.700000     61.800000     57.000000   2398.000000      5.700000   \n",
       "75%        1.040000     62.500000     59.000000   5327.000000      6.540000   \n",
       "max        5.010000     79.000000     95.000000  18818.000000     10.740000   \n",
       "\n",
       "                  y             z  \n",
       "count  45849.000000  45849.000000  \n",
       "mean       5.732836      3.537766  \n",
       "std        1.147394      0.707841  \n",
       "min        0.000000      0.000000  \n",
       "25%        4.720000      2.910000  \n",
       "50%        5.710000      3.520000  \n",
       "75%        6.540000      4.030000  \n",
       "max       58.900000     31.800000  "
      ]
     },
     "execution_count": 7,
     "metadata": {},
     "output_type": "execute_result"
    }
   ],
   "source": [
    "#Checking descriptive statistics for the numerical features\n",
    "raw_df.describe()"
   ]
  },
  {
   "cell_type": "code",
   "execution_count": 8,
   "id": "5d8074d2",
   "metadata": {},
   "outputs": [
    {
     "name": "stdout",
     "output_type": "stream",
     "text": [
      "<class 'pandas.core.frame.DataFrame'>\n",
      "Int64Index: 45849 entries, 0 to 45848\n",
      "Data columns (total 10 columns):\n",
      " #   Column   Non-Null Count  Dtype  \n",
      "---  ------   --------------  -----  \n",
      " 0   carat    45849 non-null  float64\n",
      " 1   cut      45849 non-null  object \n",
      " 2   color    45849 non-null  object \n",
      " 3   clarity  45849 non-null  object \n",
      " 4   depth    45849 non-null  float64\n",
      " 5   table    45849 non-null  float64\n",
      " 6   price    45849 non-null  int64  \n",
      " 7   x        45849 non-null  float64\n",
      " 8   y        45849 non-null  float64\n",
      " 9   z        45849 non-null  float64\n",
      "dtypes: float64(6), int64(1), object(3)\n",
      "memory usage: 3.8+ MB\n"
     ]
    }
   ],
   "source": [
    "#Checking datatypes and if there are null values\n",
    "raw_df.info()"
   ]
  },
  {
   "cell_type": "code",
   "execution_count": 9,
   "id": "16fda071",
   "metadata": {
    "scrolled": true
   },
   "outputs": [
    {
     "data": {
      "text/plain": [
       "<AxesSubplot:ylabel='Frequency'>"
      ]
     },
     "execution_count": 9,
     "metadata": {},
     "output_type": "execute_result"
    },
    {
     "data": {
      "image/png": "[encoded data removed]",
      "text/plain": [
       "<Figure size 432x288 with 1 Axes>"
      ]
     },
     "metadata": {
      "needs_background": "light"
     },
     "output_type": "display_data"
    }
   ],
   "source": [
    "#Checking the price distribution\n",
    "#FORMAT THIS GRAPH\n",
    "raw_df.price.plot.hist()"
   ]
  },
  {
   "cell_type": "code",
   "execution_count": 10,
   "id": "7a4bf32c",
   "metadata": {},
   "outputs": [
    {
     "data": {
      "text/plain": [
       "Ideal        18350\n",
       "Premium      11645\n",
       "Very Good    10282\n",
       "Good          4194\n",
       "Fair          1378\n",
       "Name: cut, dtype: int64"
      ]
     },
     "execution_count": 10,
     "metadata": {},
     "output_type": "execute_result"
    }
   ],
   "source": [
    "#Checking the cut distribution\n",
    "raw_df['cut'].value_counts()"
   ]
  },
  {
   "cell_type": "markdown",
   "id": "61ec4742",
   "metadata": {},
   "source": [
    "## Data preparation"
   ]
  },
  {
   "cell_type": "code",
   "execution_count": null,
   "id": "ae5472e1",
   "metadata": {},
   "outputs": [],
   "source": []
  },
  {
   "cell_type": "markdown",
   "id": "2fb0a6c9",
   "metadata": {},
   "source": [
    "## Modeling"
   ]
  },
  {
   "cell_type": "code",
   "execution_count": null,
   "id": "34d55e20",
   "metadata": {},
   "outputs": [],
   "source": []
  },
  {
   "cell_type": "markdown",
   "id": "d5f56a64",
   "metadata": {},
   "source": [
    "## Evaluation"
   ]
  },
  {
   "cell_type": "code",
   "execution_count": null,
   "id": "c4c16d54",
   "metadata": {},
   "outputs": [],
   "source": []
  },
  {
   "cell_type": "markdown",
   "id": "984d5ba1",
   "metadata": {},
   "source": [
    "## Deployment"
   ]
  },
  {
   "cell_type": "code",
   "execution_count": null,
   "id": "e9c9a16e",
   "metadata": {},
   "outputs": [],
   "source": []
  }
 ],
 "metadata": {
  "kernelspec": {
   "display_name": "Python 3 (ipykernel)",
   "language": "python",
   "name": "python3"
  },
  "language_info": {
   "codemirror_mode": {
    "name": "ipython",
    "version": 3
   },
   "file_extension": ".py",
   "mimetype": "text/x-python",
   "name": "python",
   "nbconvert_exporter": "python",
   "pygments_lexer": "ipython3",
   "version": "3.9.7"
  }
 },
 "nbformat": 4,
 "nbformat_minor": 5
}
