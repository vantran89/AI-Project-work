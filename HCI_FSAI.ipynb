{
 "cells": [
  {
   "cell_type": "markdown",
   "metadata": {
    "id": "fyBKEPRQmZHX"
   },
   "source": [
    "# Group \n",
    "\n",
    "Groupmembers are:\n",
    "\n",
    "\n",
    "|Gender|Firstname|Surname|Email| Study program| Semester| Student ID|\n",
    "|:----:|:--------|:------|:----|:----------|:------------|:--------|\n",
    "| f | Larissa | Jesus | larissa.ldjesus@student.uni-siegen.de| HCI| 4|1589319|\n",
    "| f | Cam Van | Tran Thi | cam.tranthi@student.uni-siegen.de | HCI | 4 | 1542660 |\n",
    "| m |Roberto|Ruiz|rroberto.rruiz@gmail.com|HCI|1|1692619|\n",
    "\n",
    "    \n",
    "**Course**: First steps into Artificial Intelligence: Organization & Introduction\n",
    "\n",
    "**Examiner**: Prof. Dr. Thomas Ludwig\n",
    "\n",
    "**Semester**: Summersemester 2022\n",
    "\n",
    "**Submission date**: 31. July 2022\n",
    "\n",
    "**City**: Siegen, Germany\n"
   ]
  },
  {
   "cell_type": "code",
   "execution_count": 1,
   "metadata": {
    "colab": {
     "base_uri": "https://localhost:8080/"
    },
    "id": "GK2eMNBCnjwc",
    "outputId": "cf76b3bc-16f1-4d5f-e39b-a8324012e095"
   },
   "outputs": [
    {
     "name": "stdout",
     "output_type": "stream",
     "text": [
      "Requirement already satisfied: pyod in d:\\users\\robil\\anaconda3\\lib\\site-packages (1.0.4)\n",
      "Requirement already satisfied: scipy>=1.5.1 in d:\\users\\robil\\anaconda3\\lib\\site-packages (from pyod) (1.7.3)\n",
      "Requirement already satisfied: numpy>=1.19 in d:\\users\\robil\\anaconda3\\lib\\site-packages (from pyod) (1.21.5)\n",
      "Requirement already satisfied: matplotlib in d:\\users\\robil\\anaconda3\\lib\\site-packages (from pyod) (3.5.1)\n",
      "Requirement already satisfied: statsmodels in d:\\users\\robil\\anaconda3\\lib\\site-packages (from pyod) (0.13.2)\n",
      "Requirement already satisfied: six in d:\\users\\robil\\anaconda3\\lib\\site-packages (from pyod) (1.16.0)\n",
      "Requirement already satisfied: scikit-learn>=0.20.0 in d:\\users\\robil\\anaconda3\\lib\\site-packages (from pyod) (1.0.2)\n",
      "Requirement already satisfied: numba>=0.51 in d:\\users\\robil\\anaconda3\\lib\\site-packages (from pyod) (0.55.1)\n",
      "Requirement already satisfied: joblib in d:\\users\\robil\\anaconda3\\lib\\site-packages (from pyod) (1.1.0)\n",
      "Requirement already satisfied: llvmlite<0.39,>=0.38.0rc1 in d:\\users\\robil\\anaconda3\\lib\\site-packages (from numba>=0.51->pyod) (0.38.0)\n",
      "Requirement already satisfied: setuptools in d:\\users\\robil\\anaconda3\\lib\\site-packages (from numba>=0.51->pyod) (61.2.0)\n",
      "Requirement already satisfied: threadpoolctl>=2.0.0 in d:\\users\\robil\\anaconda3\\lib\\site-packages (from scikit-learn>=0.20.0->pyod) (2.2.0)\n",
      "Requirement already satisfied: pillow>=6.2.0 in d:\\users\\robil\\anaconda3\\lib\\site-packages (from matplotlib->pyod) (9.0.1)\n",
      "Requirement already satisfied: pyparsing>=2.2.1 in d:\\users\\robil\\anaconda3\\lib\\site-packages (from matplotlib->pyod) (3.0.4)\n",
      "Requirement already satisfied: cycler>=0.10 in d:\\users\\robil\\anaconda3\\lib\\site-packages (from matplotlib->pyod) (0.11.0)\n",
      "Requirement already satisfied: fonttools>=4.22.0 in d:\\users\\robil\\anaconda3\\lib\\site-packages (from matplotlib->pyod) (4.25.0)\n",
      "Requirement already satisfied: packaging>=20.0 in d:\\users\\robil\\anaconda3\\lib\\site-packages (from matplotlib->pyod) (21.3)\n",
      "Requirement already satisfied: python-dateutil>=2.7 in d:\\users\\robil\\anaconda3\\lib\\site-packages (from matplotlib->pyod) (2.8.2)\n",
      "Requirement already satisfied: kiwisolver>=1.0.1 in d:\\users\\robil\\anaconda3\\lib\\site-packages (from matplotlib->pyod) (1.3.2)\n",
      "Requirement already satisfied: pandas>=0.25 in d:\\users\\robil\\anaconda3\\lib\\site-packages (from statsmodels->pyod) (1.4.2)\n",
      "Requirement already satisfied: patsy>=0.5.2 in d:\\users\\robil\\anaconda3\\lib\\site-packages (from statsmodels->pyod) (0.5.2)\n",
      "Requirement already satisfied: pytz>=2020.1 in d:\\users\\robil\\anaconda3\\lib\\site-packages (from pandas>=0.25->statsmodels->pyod) (2021.3)\n"
     ]
    }
   ],
   "source": [
    "!pip install pyod"
   ]
  },
  {
   "cell_type": "code",
   "execution_count": 2,
   "metadata": {
    "id": "TI_FrJNwnbf8"
   },
   "outputs": [],
   "source": [
    "# Importing the necessary libraries for the data mining process\n",
    "import numpy as np\n",
    "import pandas as pd\n",
    "import matplotlib.pyplot as plt\n",
    "import seaborn as sns\n",
    "import warnings\n",
    "from pyod.models.knn import KNN\n",
    "from sklearn import svm\n",
    "from sklearn.ensemble import RandomForestRegressor\n",
    "from sklearn.metrics import r2_score, mean_squared_error, mean_absolute_error\n",
    "from sklearn.metrics import confusion_matrix, ConfusionMatrixDisplay\n",
    "from sklearn.metrics import classification_report \n",
    "from sklearn.model_selection import GridSearchCV\n",
    "from sklearn.model_selection import train_test_split\n",
    "from sklearn.preprocessing import OrdinalEncoder\n",
    "from sklearn.preprocessing import StandardScaler\n",
    "\n",
    "warnings.filterwarnings('ignore')"
   ]
  },
  {
   "cell_type": "code",
   "execution_count": 3,
   "metadata": {
    "id": "OauEegpqn1KV"
   },
   "outputs": [],
   "source": [
    "# Importing the dataset\n",
    "datapath = \"data/diamonds_FSAI_SoSe22.csv\"\n",
    "raw_df = pd.read_csv(datapath, index_col = 0)"
   ]
  },
  {
   "cell_type": "markdown",
   "metadata": {
    "id": "tgb1D4DMomQ5"
   },
   "source": [
    "## Business Understanding"
   ]
  },
  {
   "cell_type": "markdown",
   "metadata": {
    "id": "rWrzBDI5DoAB"
   },
   "source": [
    "A jewelry store named “CHARM” regularly buys diamonds of various sizes, cuts and colors to make and sell all kinds of diamond jewelry for customers.  The owner of the store aims to offer a fair price for his jewelry products in order to increase customer satisfaction, attract new customers and have more revenues. Thus, he wants to have a quick but accurate estimation of the diamond’s price and diamond’s cut using AI supported solution. \n",
    "\n",
    "Apart from the links mentioned in the report, here are a few more links we used for the business understanding stage:\n",
    "\n",
    "- [How do you calculate diamond measurements?](https://www.briangavindiamonds.com/news/how-do-you-calculate-diamond-measurements/)\n",
    "- [What is the formula for total depth of a diamond if you know the diameter?](https://www.briangavindiamonds.com/news/what-is-the-formula-for-total-depth-of-a-diamond-if-you-know-the-diameter/)"
   ]
  },
  {
   "cell_type": "markdown",
   "metadata": {
    "id": "KMA5RO7Jn2fI"
   },
   "source": [
    "## Data Understanding\n",
    "\n",
    "The diamonds dataset has 45849 entries (rows) and 10 features (columns) which are:\n",
    "\n",
    "**Carat**: Carat weight of the diamond (0.2 - 5.01)\n",
    "\n",
    "**Cut**: Describe cut quality of the diamond in increasing order: Fair, Good, Very Good, Premium, Ideal\n",
    "\n",
    "**Color**: Color of the diamond, with D being the best and J the worst \n",
    "\n",
    "**Clarity**: Describe how obvious inclusions are within the diamond: (I1 (worst), SI2, SI1, VS2, VS1, VVS2, VVS1, IF (best))\n",
    "\n",
    "**Depth**: The height of a diamond, measured from the culet to the table, divided by its average girdle diameter (43 - 79%)\n",
    "\n",
    "**Table**: The width of the diamond's table expressed as a percentage of its average diameter (43 - 95%)\n",
    "\n",
    "**Price**: the price of the diamond in US dollars ($326 - $18,818)\n",
    "\n",
    "**X**: length (0 - 10.74 mm)\n",
    "\n",
    "**Y**: width (0 - 58.9 mm)\n",
    "\n",
    "**Z**: depth (0 - 31.8 mm)\n"
   ]
  },
  {
   "cell_type": "code",
   "execution_count": 4,
   "metadata": {
    "colab": {
     "base_uri": "https://localhost:8080/"
    },
    "id": "bxvcicrTGmMJ",
    "outputId": "3a20c253-1aba-4550-ae7e-5d90c540111f"
   },
   "outputs": [
    {
     "data": {
      "text/plain": [
       "(45849, 10)"
      ]
     },
     "execution_count": 4,
     "metadata": {},
     "output_type": "execute_result"
    }
   ],
   "source": [
    "# Checking dimension of the dataset\n",
    "raw_df.shape"
   ]
  },
  {
   "cell_type": "markdown",
   "metadata": {
    "id": "4t2-RLXbptMW"
   },
   "source": [
    "The description of the whole dataset shows that x, y, z have 0 values, which means these entries have incomplete information and should be removed."
   ]
  },
  {
   "cell_type": "code",
   "execution_count": 5,
   "metadata": {
    "colab": {
     "base_uri": "https://localhost:8080/",
     "height": 300
    },
    "id": "5k9Y-P6zppdl",
    "outputId": "fc6ab5bc-fadd-476f-e0f2-065859ac4d78"
   },
   "outputs": [
    {
     "data": {
      "text/html": [
       "<div>\n",
       "<style scoped>\n",
       "    .dataframe tbody tr th:only-of-type {\n",
       "        vertical-align: middle;\n",
       "    }\n",
       "\n",
       "    .dataframe tbody tr th {\n",
       "        vertical-align: top;\n",
       "    }\n",
       "\n",
       "    .dataframe thead th {\n",
       "        text-align: right;\n",
       "    }\n",
       "</style>\n",
       "<table border=\"1\" class=\"dataframe\">\n",
       "  <thead>\n",
       "    <tr style=\"text-align: right;\">\n",
       "      <th></th>\n",
       "      <th>carat</th>\n",
       "      <th>depth</th>\n",
       "      <th>table</th>\n",
       "      <th>price</th>\n",
       "      <th>x</th>\n",
       "      <th>y</th>\n",
       "      <th>z</th>\n",
       "    </tr>\n",
       "  </thead>\n",
       "  <tbody>\n",
       "    <tr>\n",
       "      <th>count</th>\n",
       "      <td>45849.000000</td>\n",
       "      <td>45849.000000</td>\n",
       "      <td>45849.000000</td>\n",
       "      <td>45849.000000</td>\n",
       "      <td>45849.000000</td>\n",
       "      <td>45849.000000</td>\n",
       "      <td>45849.000000</td>\n",
       "    </tr>\n",
       "    <tr>\n",
       "      <th>mean</th>\n",
       "      <td>0.797251</td>\n",
       "      <td>61.749371</td>\n",
       "      <td>57.456823</td>\n",
       "      <td>3925.804772</td>\n",
       "      <td>5.729115</td>\n",
       "      <td>5.732836</td>\n",
       "      <td>3.537766</td>\n",
       "    </tr>\n",
       "    <tr>\n",
       "      <th>std</th>\n",
       "      <td>0.473729</td>\n",
       "      <td>1.436693</td>\n",
       "      <td>2.234886</td>\n",
       "      <td>3982.937163</td>\n",
       "      <td>1.122093</td>\n",
       "      <td>1.147394</td>\n",
       "      <td>0.707841</td>\n",
       "    </tr>\n",
       "    <tr>\n",
       "      <th>min</th>\n",
       "      <td>0.200000</td>\n",
       "      <td>43.000000</td>\n",
       "      <td>43.000000</td>\n",
       "      <td>326.000000</td>\n",
       "      <td>0.000000</td>\n",
       "      <td>0.000000</td>\n",
       "      <td>0.000000</td>\n",
       "    </tr>\n",
       "    <tr>\n",
       "      <th>25%</th>\n",
       "      <td>0.400000</td>\n",
       "      <td>61.000000</td>\n",
       "      <td>56.000000</td>\n",
       "      <td>948.000000</td>\n",
       "      <td>4.710000</td>\n",
       "      <td>4.720000</td>\n",
       "      <td>2.910000</td>\n",
       "    </tr>\n",
       "    <tr>\n",
       "      <th>50%</th>\n",
       "      <td>0.700000</td>\n",
       "      <td>61.800000</td>\n",
       "      <td>57.000000</td>\n",
       "      <td>2398.000000</td>\n",
       "      <td>5.700000</td>\n",
       "      <td>5.710000</td>\n",
       "      <td>3.520000</td>\n",
       "    </tr>\n",
       "    <tr>\n",
       "      <th>75%</th>\n",
       "      <td>1.040000</td>\n",
       "      <td>62.500000</td>\n",
       "      <td>59.000000</td>\n",
       "      <td>5327.000000</td>\n",
       "      <td>6.540000</td>\n",
       "      <td>6.540000</td>\n",
       "      <td>4.030000</td>\n",
       "    </tr>\n",
       "    <tr>\n",
       "      <th>max</th>\n",
       "      <td>5.010000</td>\n",
       "      <td>79.000000</td>\n",
       "      <td>95.000000</td>\n",
       "      <td>18818.000000</td>\n",
       "      <td>10.740000</td>\n",
       "      <td>58.900000</td>\n",
       "      <td>31.800000</td>\n",
       "    </tr>\n",
       "  </tbody>\n",
       "</table>\n",
       "</div>"
      ],
      "text/plain": [
       "              carat         depth         table         price             x  \\\n",
       "count  45849.000000  45849.000000  45849.000000  45849.000000  45849.000000   \n",
       "mean       0.797251     61.749371     57.456823   3925.804772      5.729115   \n",
       "std        0.473729      1.436693      2.234886   3982.937163      1.122093   \n",
       "min        0.200000     43.000000     43.000000    326.000000      0.000000   \n",
       "25%        0.400000     61.000000     56.000000    948.000000      4.710000   \n",
       "50%        0.700000     61.800000     57.000000   2398.000000      5.700000   \n",
       "75%        1.040000     62.500000     59.000000   5327.000000      6.540000   \n",
       "max        5.010000     79.000000     95.000000  18818.000000     10.740000   \n",
       "\n",
       "                  y             z  \n",
       "count  45849.000000  45849.000000  \n",
       "mean       5.732836      3.537766  \n",
       "std        1.147394      0.707841  \n",
       "min        0.000000      0.000000  \n",
       "25%        4.720000      2.910000  \n",
       "50%        5.710000      3.520000  \n",
       "75%        6.540000      4.030000  \n",
       "max       58.900000     31.800000  "
      ]
     },
     "execution_count": 5,
     "metadata": {},
     "output_type": "execute_result"
    }
   ],
   "source": [
    "# Checking description of the whole dataset\n",
    "raw_df.describe()"
   ]
  },
  {
   "cell_type": "markdown",
   "metadata": {
    "id": "rQi3-pO6KwfB"
   },
   "source": [
    "There are 17 rows which have 0 values in the dataset to remove"
   ]
  },
  {
   "cell_type": "code",
   "execution_count": 6,
   "metadata": {
    "colab": {
     "base_uri": "https://localhost:8080/"
    },
    "id": "I6yfM6pZIo1H",
    "outputId": "77341da2-1f76-41d7-a82e-4e1cac126349"
   },
   "outputs": [
    {
     "data": {
      "text/plain": [
       "17"
      ]
     },
     "execution_count": 6,
     "metadata": {},
     "output_type": "execute_result"
    }
   ],
   "source": [
    "# Checking the number of rows with 0 values\n",
    "num_values_0 = raw_df[\n",
    "    (raw_df['x'] == 0) |\n",
    "    (raw_df['y'] == 0) |\n",
    "    (raw_df['z'] == 0)\n",
    "]\n",
    "len(num_values_0)"
   ]
  },
  {
   "cell_type": "markdown",
   "metadata": {
    "id": "CI9ZdxrOrLXU"
   },
   "source": [
    "Checking information of the dataset, we see that “cut, color and clarity” have object type (i.e. categorical type), the other 7 features have numerical type (6 float64 or 1 int64). There is also no null values in the dataset."
   ]
  },
  {
   "cell_type": "code",
   "execution_count": 7,
   "metadata": {
    "colab": {
     "base_uri": "https://localhost:8080/"
    },
    "id": "PNlvfCbFqM3b",
    "outputId": "d2fd4601-190c-43ad-e7bc-80bd4a5d1ff7"
   },
   "outputs": [
    {
     "name": "stdout",
     "output_type": "stream",
     "text": [
      "<class 'pandas.core.frame.DataFrame'>\n",
      "Int64Index: 45849 entries, 0 to 45848\n",
      "Data columns (total 10 columns):\n",
      " #   Column   Non-Null Count  Dtype  \n",
      "---  ------   --------------  -----  \n",
      " 0   carat    45849 non-null  float64\n",
      " 1   cut      45849 non-null  object \n",
      " 2   color    45849 non-null  object \n",
      " 3   clarity  45849 non-null  object \n",
      " 4   depth    45849 non-null  float64\n",
      " 5   table    45849 non-null  float64\n",
      " 6   price    45849 non-null  int64  \n",
      " 7   x        45849 non-null  float64\n",
      " 8   y        45849 non-null  float64\n",
      " 9   z        45849 non-null  float64\n",
      "dtypes: float64(6), int64(1), object(3)\n",
      "memory usage: 3.8+ MB\n"
     ]
    }
   ],
   "source": [
    "# Checking the information of the dataset\n",
    "raw_df.info()"
   ]
  },
  {
   "cell_type": "markdown",
   "metadata": {
    "id": "GqtVl_etsG_1"
   },
   "source": [
    "The correlation heatmap indiates that Price is highly correlated to carat and x, y, z."
   ]
  },
  {
   "cell_type": "code",
   "execution_count": 8,
   "metadata": {
    "colab": {
     "base_uri": "https://localhost:8080/",
     "height": 298
    },
    "id": "-IYYYewYrJU_",
    "outputId": "12558e80-aaff-4a62-c526-93176d52dc48"
   },
   "outputs": [
    {
     "data": {
      "text/plain": [
       "Text(0.5, 1.0, 'Correlation map')"
      ]
     },
     "execution_count": 8,
     "metadata": {},
     "output_type": "execute_result"
    },
    {
     "data": {
      "image/png": "[encoded data removed]",
      "text/plain": [
       "<Figure size 432x288 with 2 Axes>"
      ]
     },
     "metadata": {
      "needs_background": "light"
     },
     "output_type": "display_data"
    }
   ],
   "source": [
    "# Checking the correlations among the features\n",
    "graph = sns.heatmap(\n",
    "    raw_df.corr(),\n",
    "    annot = True,\n",
    "    cmap = 'coolwarm'\n",
    ")\n",
    "graph.set_title(\"Correlation map\")"
   ]
  },
  {
   "cell_type": "markdown",
   "metadata": {
    "id": "GXO9Z20LNexy"
   },
   "source": [
    "\n",
    "The graphical plots of numerical features (i.e. carat, x, y, z, price, depth, table,) show that there are outliers in the dataset"
   ]
  },
  {
   "cell_type": "code",
   "execution_count": 9,
   "metadata": {
    "colab": {
     "base_uri": "https://localhost:8080/",
     "height": 991
    },
    "id": "lfGoXlhpps64",
    "outputId": "e33c88bd-be65-4f6b-ea99-b27d5f6f2b94"
   },
   "outputs": [
    {
     "data": {
      "image/png": "[encoded data removed]",
      "text/plain": [
       "<Figure size 864x360 with 3 Axes>"
      ]
     },
     "metadata": {
      "needs_background": "light"
     },
     "output_type": "display_data"
    },
    {
     "data": {
      "image/png": "[encoded data removed]",
      "text/plain": [
       "<Figure size 864x360 with 3 Axes>"
      ]
     },
     "metadata": {
      "needs_background": "light"
     },
     "output_type": "display_data"
    },
    {
     "data": {
      "text/plain": [
       "Text(0.5, 1.0, 'table')"
      ]
     },
     "execution_count": 9,
     "metadata": {},
     "output_type": "execute_result"
    },
    {
     "data": {
      "image/png": "[encoded data removed]",
      "text/plain": [
       "<Figure size 288x360 with 1 Axes>"
      ]
     },
     "metadata": {
      "needs_background": "light"
     },
     "output_type": "display_data"
    }
   ],
   "source": [
    "# Using boxplot to identify outliers in the dataset\n",
    "fig, ax = plt.subplots(nrows=1, ncols=3, figsize=(12,5))\n",
    "ax[0].boxplot(raw_df['carat'])\n",
    "ax[0].set_title('carat')\n",
    "ax[1].boxplot(raw_df['x'])\n",
    "ax[1].set_title('x')\n",
    "ax[2].boxplot(raw_df['y'])\n",
    "ax[2].set_title('y')\n",
    "\n",
    "fig, ax = plt.subplots(nrows=1, ncols=3, figsize=(12,5))\n",
    "ax[0].boxplot(raw_df['z'])\n",
    "ax[0].set_title('z')\n",
    "ax[1].boxplot(raw_df['price'])\n",
    "ax[1].set_title('price')\n",
    "ax[2].boxplot(raw_df['depth'])\n",
    "ax[2].set_title('depth')\n",
    "plt.show()\n",
    "\n",
    "fig, ax = plt.subplots(figsize=(4,5))\n",
    "ax.boxplot(raw_df['table'])\n",
    "ax.set_title('table')"
   ]
  },
  {
   "cell_type": "markdown",
   "metadata": {
    "id": "5Hk47403O-Mu"
   },
   "source": [
    "Plotting the distribution of the price, we realize that most of the diamonds in the dataset have a low price (<$7500)"
   ]
  },
  {
   "cell_type": "code",
   "execution_count": 10,
   "metadata": {
    "colab": {
     "base_uri": "https://localhost:8080/",
     "height": 298
    },
    "id": "WB36pM8qvTLX",
    "outputId": "c1113668-7ec6-4e7b-e56f-6d33147de914"
   },
   "outputs": [
    {
     "data": {
      "text/plain": [
       "<AxesSubplot:title={'center':'Diamond price distribution'}, ylabel='Frequency'>"
      ]
     },
     "execution_count": 10,
     "metadata": {},
     "output_type": "execute_result"
    },
    {
     "data": {
      "image/png": "[encoded data removed]",
      "text/plain": [
       "<Figure size 432x288 with 1 Axes>"
      ]
     },
     "metadata": {
      "needs_background": "light"
     },
     "output_type": "display_data"
    }
   ],
   "source": [
    "# Plotting the price distribution\n",
    "raw_df.price.plot.hist(title=\"Diamond price distribution\")"
   ]
  },
  {
   "cell_type": "markdown",
   "metadata": {
    "id": "wGzHTxAsQVQ_"
   },
   "source": [
    "the statistics and pie graph of diamond's cut reveals that most of the diamond’s cut are Ideal, Premium and Very Good (account for 87.85%)"
   ]
  },
  {
   "cell_type": "code",
   "execution_count": 11,
   "metadata": {
    "colab": {
     "base_uri": "https://localhost:8080/"
    },
    "id": "7vIN_JhHusRU",
    "outputId": "04489dba-aa35-4213-f8ec-9530dd374272"
   },
   "outputs": [
    {
     "data": {
      "text/plain": [
       "Ideal        18350\n",
       "Premium      11645\n",
       "Very Good    10282\n",
       "Good          4194\n",
       "Fair          1378\n",
       "Name: cut, dtype: int64"
      ]
     },
     "execution_count": 11,
     "metadata": {},
     "output_type": "execute_result"
    }
   ],
   "source": [
    "# Checking the quantity of each type of cut\n",
    "raw_df['cut'].value_counts()"
   ]
  },
  {
   "cell_type": "code",
   "execution_count": 12,
   "metadata": {
    "colab": {
     "base_uri": "https://localhost:8080/",
     "height": 429
    },
    "id": "Ci83snbqHcQx",
    "outputId": "164be25b-e95f-44f0-a20a-1763ad05744f"
   },
   "outputs": [
    {
     "data": {
      "image/png": "[encoded data removed]",
      "text/plain": [
       "<Figure size 504x504 with 1 Axes>"
      ]
     },
     "metadata": {},
     "output_type": "display_data"
    }
   ],
   "source": [
    "# Plotting the percentage distribution of the diamond's cut\n",
    "cut_palette = [\"darkturquoise\", \"lightskyblue\", \"paleturquoise\", \"lightcyan\", \"azure\"]\n",
    "df_cut = raw_df['cut'].value_counts()\n",
    "plt.figure(figsize = (7,7))\n",
    "plt.pie(\n",
    "    data = df_cut, \n",
    "    x = df_cut.values,\n",
    "    labels = df_cut.index,\n",
    "    autopct = \"%.2f%%\",\n",
    "    pctdistance = 0.8,\n",
    "    colors = cut_palette\n",
    ")\n",
    "circle = plt.Circle(xy = (0, 0), radius = 0.5, facecolor = 'white')\n",
    "plt.gca().add_artist(circle)\n",
    "plt.title(\"% of Diamond cut distribution\", size = 16)\n",
    "plt.show()"
   ]
  },
  {
   "cell_type": "markdown",
   "metadata": {
    "id": "LPa8iONUraPJ"
   },
   "source": [
    "**In summary, through data exploration we found out that:**\n",
    "- We need to remove outliers, and rows with 0 values \n",
    "- \"cut, color and clarity” have categorical type, should be encoded into numbers\n",
    "- \"price, carat, x, y, z” have high correlations\n"
   ]
  },
  {
   "cell_type": "markdown",
   "metadata": {
    "id": "yEF3LM74mPMn"
   },
   "source": [
    "## Data Preparation"
   ]
  },
  {
   "cell_type": "markdown",
   "metadata": {
    "id": "CHiSESbNwjQg"
   },
   "source": [
    "We start by removing 0 values"
   ]
  },
  {
   "cell_type": "code",
   "execution_count": 13,
   "metadata": {
    "id": "trtn9nzwwgGS"
   },
   "outputs": [],
   "source": [
    "# Removing 0 values in x, y, z\n",
    "raw_df = raw_df.drop(raw_df[raw_df['x'] == 0].index)\n",
    "raw_df = raw_df.drop(raw_df[raw_df['y'] == 0].index)\n",
    "raw_df = raw_df.drop(raw_df[raw_df['z'] == 0].index)"
   ]
  },
  {
   "cell_type": "markdown",
   "metadata": {
    "id": "PjxsLynHwlgc"
   },
   "source": [
    "We encode categorial datat to numerical data, identify and remove outliers in the dataset"
   ]
  },
  {
   "cell_type": "code",
   "execution_count": 14,
   "metadata": {
    "id": "mmIprM8HxEjo"
   },
   "outputs": [],
   "source": [
    "# Creating the dataset for the regression problem\n",
    "df_reg = raw_df.copy()"
   ]
  },
  {
   "cell_type": "code",
   "execution_count": 15,
   "metadata": {
    "id": "1mkdD_4R39TE"
   },
   "outputs": [],
   "source": [
    "# Transforming categorical data in numerical data in the regression dataset\n",
    "# ordinal encode 'cut', 'color', 'clarity'\n",
    "df_reg['cut'] = df_reg['cut'].map({'Fair':1,'Good':2,'Very Good':3,'Premium':4,'Ideal':5})\n",
    "df_reg['color'] = df_reg['color'].map({'J':1,'I':2,'H':3,'G':4,'F':5,'E':6,'D':7})\n",
    "df_reg['clarity'] = df_reg['clarity'].map({'I1':1, 'SI2':2, 'SI1':3, 'VS2':4, 'VS1':5, 'VVS2':6, 'VVS1':7, 'IF':8})"
   ]
  },
  {
   "cell_type": "code",
   "execution_count": 16,
   "metadata": {
    "id": "PHAyxhJR39eK"
   },
   "outputs": [],
   "source": [
    "# Creating and fitting an outlier detector\n",
    "detector = KNN()\n",
    "detector.fit(df_reg)\n",
    "outliers_reg = detector.labels_"
   ]
  },
  {
   "cell_type": "code",
   "execution_count": 17,
   "metadata": {
    "id": "D7Jnw44d39mD"
   },
   "outputs": [],
   "source": [
    "# Creating a column in the dataset to identify the outliers\n",
    "df_reg['outliers'] = outliers_reg"
   ]
  },
  {
   "cell_type": "code",
   "execution_count": 18,
   "metadata": {
    "id": "kZ7nrS3y39tt"
   },
   "outputs": [],
   "source": [
    "# Creating an array with outlier indexes\n",
    "index_outliers = df_reg[df_reg['outliers'] == 1].index.values"
   ]
  },
  {
   "cell_type": "code",
   "execution_count": 19,
   "metadata": {
    "id": "7jOUOwaa4Ch_"
   },
   "outputs": [],
   "source": [
    "# Removing the outliers\n",
    "for i in index_outliers:\n",
    "    df_reg = df_reg.drop(index=i)"
   ]
  },
  {
   "cell_type": "code",
   "execution_count": 20,
   "metadata": {
    "id": "hsoeB--f4Cmp"
   },
   "outputs": [],
   "source": [
    "# Removing the outliers column\n",
    "df_reg = df_reg.drop('outliers', axis=1)"
   ]
  },
  {
   "cell_type": "code",
   "execution_count": 21,
   "metadata": {
    "id": "XJHmuHpwaa8b"
   },
   "outputs": [],
   "source": [
    "# Creating the dataset for the classification\n",
    "df_clf = raw_df.copy()\n",
    "df_clf = df_clf.drop([\"carat\",\"color\",\"price\",\"clarity\"], axis=1)"
   ]
  },
  {
   "cell_type": "code",
   "execution_count": 22,
   "metadata": {
    "id": "gnyFklGC4L2y"
   },
   "outputs": [],
   "source": [
    "# Transforming the cut in numerical data\n",
    "df_clf['cut'] = df_clf['cut'].map({ 'Fair':1,'Good':2,'Very Good':3,'Premium':4,'Ideal':5 })"
   ]
  },
  {
   "cell_type": "code",
   "execution_count": 23,
   "metadata": {
    "id": "4o_S_DNt4L6q"
   },
   "outputs": [],
   "source": [
    "# Fitting the outlier detector in the classification dataset\n",
    "detector.fit(df_clf)\n",
    "outliers_clf = detector.labels_"
   ]
  },
  {
   "cell_type": "code",
   "execution_count": 24,
   "metadata": {
    "id": "xQYTpKLb4L-z"
   },
   "outputs": [],
   "source": [
    "# Creating a column in the dataset to identify the outliers\n",
    "df_clf['outliers'] = outliers_clf"
   ]
  },
  {
   "cell_type": "code",
   "execution_count": 25,
   "metadata": {
    "id": "HLtUT8_14MFb"
   },
   "outputs": [],
   "source": [
    "# Creating an array with outlier indexes\n",
    "index_outliers2 = df_clf[df_clf['outliers']==1].index.values"
   ]
  },
  {
   "cell_type": "code",
   "execution_count": 26,
   "metadata": {
    "id": "vA7oqIb64MK8"
   },
   "outputs": [],
   "source": [
    "# Returning the text data to our labels\n",
    "df_clf['cut'] = raw_df['cut']"
   ]
  },
  {
   "cell_type": "code",
   "execution_count": 27,
   "metadata": {
    "id": "jD7pXCqW4MQj"
   },
   "outputs": [],
   "source": [
    "# Removing the outliers\n",
    "for i in index_outliers2:\n",
    "    df_clf = df_clf.drop(index=i)"
   ]
  },
  {
   "cell_type": "code",
   "execution_count": 28,
   "metadata": {
    "id": "ycQcdFer4MVJ"
   },
   "outputs": [],
   "source": [
    "# Standardizing the classification dataset\n",
    "df_clf[[\"depth\", \"table\", \"y\", \"x\", \"z\"]] = StandardScaler().fit_transform(df_clf[[\"depth\", \"table\",\"y\",\"x\",\"z\"]])"
   ]
  },
  {
   "cell_type": "code",
   "execution_count": 29,
   "metadata": {
    "colab": {
     "base_uri": "https://localhost:8080/"
    },
    "id": "TxF7P9WHyJOm",
    "outputId": "2c273273-5076-4335-b6fd-b19b138c7daf"
   },
   "outputs": [
    {
     "name": "stdout",
     "output_type": "stream",
     "text": [
      "In total we dropped: 4584\n"
     ]
    }
   ],
   "source": [
    "print(\"In total we dropped:\", raw_df.shape[0] - df_reg.shape[0])"
   ]
  },
  {
   "cell_type": "markdown",
   "metadata": {
    "id": "Mq_mF_IcoyKG"
   },
   "source": [
    "## Modeling"
   ]
  },
  {
   "cell_type": "code",
   "execution_count": 30,
   "metadata": {
    "id": "j1c7cfxez1S7"
   },
   "outputs": [],
   "source": [
    "# Defining independent and dependent variables for the regression\n",
    "independent_reg = df_reg.drop(\"price\", axis=1)\n",
    "dependent_reg = df_reg['price']\n",
    "\n",
    "X_train_reg, X_test_reg, y_train_reg, y_test_reg = train_test_split(independent_reg, dependent_reg, test_size=0.2, \n",
    "                                                                    random_state=42)"
   ]
  },
  {
   "cell_type": "code",
   "execution_count": 31,
   "metadata": {
    "id": "XVO6NInf2Ka2"
   },
   "outputs": [
    {
     "data": {
      "text/plain": [
       "''"
      ]
     },
     "execution_count": 31,
     "metadata": {},
     "output_type": "execute_result"
    }
   ],
   "source": [
    "# This is the code that was used to determine the best parameters for the model\n",
    "\"\"\"\n",
    "  # Create the parameter grid based on the results of random search \n",
    "  rfr_param_grid = {\n",
    "      'bootstrap': [True, False],\n",
    "      'max_depth': [5,50,100],\n",
    "      'max_features': [5,10,20,40,None],\n",
    "      'min_samples_leaf': [1,10,50,100],\n",
    "      'min_samples_split': [5,10],\n",
    "      'n_estimators': [0,50,100], \n",
    "      'random_state' : [0,20,40,60]\n",
    "  }\n",
    "  \n",
    "  # Create a based model\n",
    "  rfr_GridSearch = RandomForestRegressor()\n",
    "\n",
    "  # Instantiate the grid search model\n",
    "  rfr_grid_search = GridSearchCV(estimator = rfr_GridSearch, param_grid = rfr_param_grid, \n",
    "                                cv = 3, n_jobs = -1, verbose = 2, scoring=['r2', 'neg_mean_absolute_error'],\n",
    "                                refit='neg_mean_absolute_error')\n",
    "\n",
    "  # Test the Model on different grid parameter\n",
    "  rfr_grid_search.fit(X_train_reg, y_train_reg)\n",
    "  print(rfr_grid_search.best_params_)\n",
    "\"\"\"\n",
    "\"\""
   ]
  },
  {
   "cell_type": "code",
   "execution_count": 32,
   "metadata": {
    "id": "DMaKi_oMzyzW"
   },
   "outputs": [],
   "source": [
    "# Instantiating and fitting the model\n",
    "rfr = RandomForestRegressor(\n",
    "    random_state=42, \n",
    "    bootstrap= True, \n",
    "    max_depth=50, \n",
    "    max_features=5, \n",
    "    min_samples_leaf= 1, \n",
    "    min_samples_split=5, \n",
    "    n_estimators=100\n",
    ")\n",
    "\n",
    "rfr.fit(X_train_reg, y_train_reg)\n",
    "y_pred_RFR = rfr.predict(X_test_reg)"
   ]
  },
  {
   "cell_type": "code",
   "execution_count": 33,
   "metadata": {
    "id": "kdpxAFZM3Vb0"
   },
   "outputs": [
    {
     "data": {
      "text/plain": [
       "''"
      ]
     },
     "execution_count": 33,
     "metadata": {},
     "output_type": "execute_result"
    }
   ],
   "source": [
    "# Tunning the hyperparameters of the classification model. This was done in\n",
    "# another notebook.\n",
    "\"\"\"\n",
    "  rfr_param_grid = {\n",
    "      'C': [0.1,1.0,10, 100, 1000],\n",
    "      'kernel': ['linear', 'poly', 'rbf', 'sigmoid'],\n",
    "      'gamma': ['scale', 'auto',1, 0.1, 0.01, 0.001, 0.0001],\n",
    "      'shrinking': [True,False],\n",
    "      'tol': [-3,1,3,5] \n",
    "  }\n",
    "  #Create a based model\n",
    "  rfr_GridSearch = svm.SVC()\n",
    "\n",
    "  #Instantiate the grid search model\n",
    "  rfr_grid_search = GridSearchCV(estimator = rfr_GridSearch, param_grid = rfr_param_grid, \n",
    "                                cv = 3, n_jobs = -1, verbose = 2, scoring=['accuracy'], refit='accuracy')\n",
    "\n",
    "  #Test the Model on different grid parameter\n",
    "  rfr_grid_search.fit(X_train_clf, X_test_clf)\n",
    "  print(rfr_grid_search.best_params_)\n",
    "\"\"\"\n",
    "\"\""
   ]
  },
  {
   "cell_type": "code",
   "execution_count": 34,
   "metadata": {
    "id": "_Q2q8mA64Omr"
   },
   "outputs": [],
   "source": [
    "# Defining our independent and dependent variables for the classification problem\n",
    "independent_clf = df_clf.drop(\"cut\", axis=1)\n",
    "dependent_clf = df_clf['cut']\n",
    "\n",
    "# Splitting the data in training and test set for classification\n",
    "X_train_clf, X_test_clf, y_train_clf, y_test_clf = train_test_split(independent_clf, dependent_clf, test_size=0.2, \n",
    "                                                                    random_state=42)"
   ]
  },
  {
   "cell_type": "code",
   "execution_count": 35,
   "metadata": {
    "id": "t1jnwqUN4tDn"
   },
   "outputs": [],
   "source": [
    "# Instanciating and fitting the classification model\n",
    "Model_clf = svm.SVC(\n",
    "    random_state=42,\n",
    "    C= 1000,\n",
    "    gamma= 0.1,\n",
    "    kernel='rbf',\n",
    "    shrinking=False,\n",
    "    tol= 1\n",
    ")\n",
    "Model_clf.fit(X_train_clf, y_train_clf)\n",
    "y_pred_clf = Model_clf.predict(X_test_clf)"
   ]
  },
  {
   "cell_type": "markdown",
   "metadata": {
    "id": "YKa8PKsfo1My"
   },
   "source": [
    "## Evaluation"
   ]
  },
  {
   "cell_type": "code",
   "execution_count": 36,
   "metadata": {
    "colab": {
     "base_uri": "https://localhost:8080/"
    },
    "id": "5n92CzRm07jX",
    "outputId": "bf5be047-7bc0-4747-ebb7-112713ef7ad9"
   },
   "outputs": [
    {
     "name": "stdout",
     "output_type": "stream",
     "text": [
      "MSE : 156318.615062514\n",
      "RMSE: 395.3714899464983\n",
      "MAE : 206.63247784159444\n",
      "R2  : 0.9804690270914195\n"
     ]
    }
   ],
   "source": [
    "# Evaluating the Regression Model\n",
    "mse = mean_squared_error(y_test_reg, y_pred_RFR)\n",
    "print(\"MSE : \"+ str(mse))\n",
    "rmse= np.sqrt(mse)\n",
    "print(\"RMSE: \"+ str(rmse))\n",
    "mae = mean_absolute_error(y_test_reg, y_pred_RFR)\n",
    "print(\"MAE : \"+ str(mae))\n",
    "r2 = r2_score(y_test_reg, y_pred_RFR)\n",
    "print(\"R2  : \"+ str(r2))"
   ]
  },
  {
   "cell_type": "code",
   "execution_count": 37,
   "metadata": {
    "colab": {
     "base_uri": "https://localhost:8080/",
     "height": 458
    },
    "id": "XWvjNFmdm7r7",
    "outputId": "bd789ca3-6ee1-452c-f877-21753742a749"
   },
   "outputs": [
    {
     "data": {
      "image/png": "[encoded data removed]",
      "text/plain": [
       "<Figure size 504x504 with 1 Axes>"
      ]
     },
     "metadata": {
      "needs_background": "light"
     },
     "output_type": "display_data"
    }
   ],
   "source": [
    "# Plotting the graph of the predicted  x actual actual values of the test set \n",
    "fig, ax = plt.subplots(figsize=(7, 7))\n",
    "ax.plot(y_test_reg, y_test_reg, label=\"Expected\", color = \"red\")\n",
    "ax.scatter(y_pred_RFR, y_test_reg, label = \"Predicted\")\n",
    "\n",
    "ax.set(xlabel='Predicted', ylabel='Actual',\n",
    "       title='Relation: Predicted vs. Actual Value')\n",
    "\n",
    "ax.grid()\n",
    "ax.legend()\n",
    "\n",
    "plt.show()"
   ]
  },
  {
   "cell_type": "code",
   "execution_count": 38,
   "metadata": {
    "colab": {
     "base_uri": "https://localhost:8080/"
    },
    "id": "LmzJYtYZoul4",
    "outputId": "18131c8b-1c9d-4219-d522-bf556fd83bae"
   },
   "outputs": [
    {
     "name": "stdout",
     "output_type": "stream",
     "text": [
      "Score on the training data: 0.8180192738953876\n",
      "Score on the test data: 0.8235151515151515\n",
      "              precision    recall  f1-score   support\n",
      "\n",
      "        Fair       0.96      0.98      0.97        82\n",
      "        Good       0.87      0.68      0.76       588\n",
      "       Ideal       0.85      0.95      0.90      3621\n",
      "     Premium       0.89      0.77      0.83      2175\n",
      "   Very Good       0.68      0.67      0.67      1784\n",
      "\n",
      "    accuracy                           0.82      8250\n",
      "   macro avg       0.85      0.81      0.83      8250\n",
      "weighted avg       0.83      0.82      0.82      8250\n",
      "\n"
     ]
    }
   ],
   "source": [
    "# Evaluating the classification model\n",
    "\n",
    "print (f\"Score on the training data: {Model_clf.score(X_train_clf, y_train_clf)}\")\n",
    "print (f\"Score on the test data: {Model_clf.score(X_test_clf, y_test_clf)}\")\n",
    "\n",
    "print(classification_report(y_test_clf, y_pred_clf))"
   ]
  },
  {
   "cell_type": "code",
   "execution_count": 39,
   "metadata": {
    "colab": {
     "base_uri": "https://localhost:8080/",
     "height": 297
    },
    "id": "k9OD8OXyoxOw",
    "outputId": "b45a5d34-842d-4470-ecc2-5c389dbe8772"
   },
   "outputs": [
    {
     "data": {
      "image/png": "[encoded data removed]",
      "text/plain": [
       "<Figure size 432x288 with 2 Axes>"
      ]
     },
     "metadata": {
      "needs_background": "light"
     },
     "output_type": "display_data"
    }
   ],
   "source": [
    "# Plotting a confusion matrix for the test set of the classification model\n",
    "ConfusionMatrixDisplay.from_estimator(Model_clf, X_test_clf, y_test_clf)\n",
    "plt.title(\"Confusion Matrix\", size = 16)\n",
    "plt.show()"
   ]
  }
 ],
 "metadata": {
  "colab": {
   "collapsed_sections": [
    "tgb1D4DMomQ5"
   ],
   "name": "HCI-FSAI.ipynb",
   "provenance": []
  },
  "kernelspec": {
   "display_name": "Python 3 (ipykernel)",
   "language": "python",
   "name": "python3"
  },
  "language_info": {
   "codemirror_mode": {
    "name": "ipython",
    "version": 3
   },
   "file_extension": ".py",
   "mimetype": "text/x-python",
   "name": "python",
   "nbconvert_exporter": "python",
   "pygments_lexer": "ipython3",
   "version": "3.9.12"
  }
 },
 "nbformat": 4,
 "nbformat_minor": 1
}
