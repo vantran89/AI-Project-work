{
 "cells": [
  {
   "cell_type": "markdown",
   "id": "51655334",
   "metadata": {},
   "source": [
    "# Group F\n",
    "\n",
    "Groupmembers are:\n",
    "\n",
    "\n",
    "|Gender|Firstname|Surname|Email| Study program| Semester| Student ID|\n",
    "|:----:|:--------|:------|:----|:----------|:------------|:--------|\n",
    "| f | Larissa | Jesus | student@student.uni-siegen.de| HCI| 4|1234|\n",
    "| f |Cam Van|Tran Thi\t|student@student.uni-siegen.de|HCI|4|1234|\n",
    "| m |Roberto|Surname|student@student.uni-siegen.de|HCI|1|1234|\n",
    "\n",
    "    \n",
    "**Course**: First steps into Artificial Intelligence: Organization & Introduction\n",
    "\n",
    "**Examiner**: Prof. Dr. Thomas Ludwig\n",
    "\n",
    "**Semester**: Summersemester 2022\n",
    "\n",
    "**Submission date**: 31. July 2022\n",
    "\n",
    "**City**: Siegen, Germany"
   ]
  },
  {
   "cell_type": "markdown",
   "id": "b3ffd7c1",
   "metadata": {},
   "source": [
    "## Imports\n",
    "Following imports and addtional installations are needed:"
   ]
  },
  {
   "cell_type": "code",
   "execution_count": 14,
   "id": "0801ebdd",
   "metadata": {},
   "outputs": [],
   "source": [
    "#Importing the necessary libraries for the data mining process\n",
    "import numpy as np\n",
    "import pandas as pd\n",
    "import matplotlib.pyplot as plt\n",
    "import seaborn as sns\n",
    "from sklearn.preprocessing import OrdinalEncoder\n",
    "from sklearn.ensemble import IsolationForest\n",
    "from sklearn.preprocessing import StandardScaler\n",
    "from sklearn.model_selection import train_test_split\n",
    "from sklearn.ensemble import RandomForestRegressor\n",
    "from sklearn.metrics import r2_score, mean_squared_error, mean_absolute_error\n",
    "from sklearn import svm\n",
    "from sklearn.metrics import confusion_matrix, ConfusionMatrixDisplay"
   ]
  },
  {
   "cell_type": "code",
   "execution_count": 15,
   "id": "258ae5ab",
   "metadata": {},
   "outputs": [],
   "source": [
    "#Importing the dataset\n",
    "datapath = \"data/diamonds_FSAI_SoSe22.csv\"\n",
    "raw_df = pd.read_csv(datapath, index_col = 0)"
   ]
  },
  {
   "cell_type": "markdown",
   "id": "ce25ab26",
   "metadata": {},
   "source": [
    "## Data Understanding"
   ]
  },
  {
   "cell_type": "markdown",
   "id": "5ff38af5",
   "metadata": {},
   "source": [
    "Explanation of the dataset columns:\n",
    "\n",
    "carat: Carat weight of the diamond\n",
    "\n",
    "cut: Describe cut quality of the diamond. Quality in increasing order Fair, Good, Very \n",
    "Good, Premium, Ideal\n",
    "\n",
    "color: Color of the diamond, with D being the best and J the worst\n",
    "clarity = How obvious inclusions are within the diamond: (I1 (worst), SI2, SI1, VS2, VS1, VVS2, \n",
    "VVS1, IF (best))\n",
    "    \n",
    "depth depth %: The height of a diamond, measured from the culet to the table, divided by \n",
    "its average girdle diameter\n",
    "\n",
    "table table%: The width of the diamond's table expressed as a percentage of its average \n",
    "diameter\n",
    "\n",
    "price: the price of the diamond in US dollars\n",
    "\n",
    "x: length mm\n",
    "\n",
    "y: width mm\n",
    "\n",
    "z: depth m"
   ]
  },
  {
   "cell_type": "code",
   "execution_count": 16,
   "id": "ac6382ad",
   "metadata": {},
   "outputs": [
    {
     "data": {
      "text/plain": [
       "(45849, 10)"
      ]
     },
     "execution_count": 16,
     "metadata": {},
     "output_type": "execute_result"
    }
   ],
   "source": [
    "#Checking the shape of the dataset\n",
    "raw_df.shape"
   ]
  },
  {
   "cell_type": "code",
   "execution_count": 17,
   "id": "2021b6e0",
   "metadata": {},
   "outputs": [
    {
     "data": {
      "text/html": [
       "<div>\n",
       "<style scoped>\n",
       "    .dataframe tbody tr th:only-of-type {\n",
       "        vertical-align: middle;\n",
       "    }\n",
       "\n",
       "    .dataframe tbody tr th {\n",
       "        vertical-align: top;\n",
       "    }\n",
       "\n",
       "    .dataframe thead th {\n",
       "        text-align: right;\n",
       "    }\n",
       "</style>\n",
       "<table border=\"1\" class=\"dataframe\">\n",
       "  <thead>\n",
       "    <tr style=\"text-align: right;\">\n",
       "      <th></th>\n",
       "      <th>carat</th>\n",
       "      <th>depth</th>\n",
       "      <th>table</th>\n",
       "      <th>price</th>\n",
       "      <th>x</th>\n",
       "      <th>y</th>\n",
       "      <th>z</th>\n",
       "    </tr>\n",
       "  </thead>\n",
       "  <tbody>\n",
       "    <tr>\n",
       "      <th>count</th>\n",
       "      <td>45849.000000</td>\n",
       "      <td>45849.000000</td>\n",
       "      <td>45849.000000</td>\n",
       "      <td>45849.000000</td>\n",
       "      <td>45849.000000</td>\n",
       "      <td>45849.000000</td>\n",
       "      <td>45849.000000</td>\n",
       "    </tr>\n",
       "    <tr>\n",
       "      <th>mean</th>\n",
       "      <td>0.797251</td>\n",
       "      <td>61.749371</td>\n",
       "      <td>57.456823</td>\n",
       "      <td>3925.804772</td>\n",
       "      <td>5.729115</td>\n",
       "      <td>5.732836</td>\n",
       "      <td>3.537766</td>\n",
       "    </tr>\n",
       "    <tr>\n",
       "      <th>std</th>\n",
       "      <td>0.473729</td>\n",
       "      <td>1.436693</td>\n",
       "      <td>2.234886</td>\n",
       "      <td>3982.937163</td>\n",
       "      <td>1.122093</td>\n",
       "      <td>1.147394</td>\n",
       "      <td>0.707841</td>\n",
       "    </tr>\n",
       "    <tr>\n",
       "      <th>min</th>\n",
       "      <td>0.200000</td>\n",
       "      <td>43.000000</td>\n",
       "      <td>43.000000</td>\n",
       "      <td>326.000000</td>\n",
       "      <td>0.000000</td>\n",
       "      <td>0.000000</td>\n",
       "      <td>0.000000</td>\n",
       "    </tr>\n",
       "    <tr>\n",
       "      <th>25%</th>\n",
       "      <td>0.400000</td>\n",
       "      <td>61.000000</td>\n",
       "      <td>56.000000</td>\n",
       "      <td>948.000000</td>\n",
       "      <td>4.710000</td>\n",
       "      <td>4.720000</td>\n",
       "      <td>2.910000</td>\n",
       "    </tr>\n",
       "    <tr>\n",
       "      <th>50%</th>\n",
       "      <td>0.700000</td>\n",
       "      <td>61.800000</td>\n",
       "      <td>57.000000</td>\n",
       "      <td>2398.000000</td>\n",
       "      <td>5.700000</td>\n",
       "      <td>5.710000</td>\n",
       "      <td>3.520000</td>\n",
       "    </tr>\n",
       "    <tr>\n",
       "      <th>75%</th>\n",
       "      <td>1.040000</td>\n",
       "      <td>62.500000</td>\n",
       "      <td>59.000000</td>\n",
       "      <td>5327.000000</td>\n",
       "      <td>6.540000</td>\n",
       "      <td>6.540000</td>\n",
       "      <td>4.030000</td>\n",
       "    </tr>\n",
       "    <tr>\n",
       "      <th>max</th>\n",
       "      <td>5.010000</td>\n",
       "      <td>79.000000</td>\n",
       "      <td>95.000000</td>\n",
       "      <td>18818.000000</td>\n",
       "      <td>10.740000</td>\n",
       "      <td>58.900000</td>\n",
       "      <td>31.800000</td>\n",
       "    </tr>\n",
       "  </tbody>\n",
       "</table>\n",
       "</div>"
      ],
      "text/plain": [
       "              carat         depth         table         price             x  \\\n",
       "count  45849.000000  45849.000000  45849.000000  45849.000000  45849.000000   \n",
       "mean       0.797251     61.749371     57.456823   3925.804772      5.729115   \n",
       "std        0.473729      1.436693      2.234886   3982.937163      1.122093   \n",
       "min        0.200000     43.000000     43.000000    326.000000      0.000000   \n",
       "25%        0.400000     61.000000     56.000000    948.000000      4.710000   \n",
       "50%        0.700000     61.800000     57.000000   2398.000000      5.700000   \n",
       "75%        1.040000     62.500000     59.000000   5327.000000      6.540000   \n",
       "max        5.010000     79.000000     95.000000  18818.000000     10.740000   \n",
       "\n",
       "                  y             z  \n",
       "count  45849.000000  45849.000000  \n",
       "mean       5.732836      3.537766  \n",
       "std        1.147394      0.707841  \n",
       "min        0.000000      0.000000  \n",
       "25%        4.720000      2.910000  \n",
       "50%        5.710000      3.520000  \n",
       "75%        6.540000      4.030000  \n",
       "max       58.900000     31.800000  "
      ]
     },
     "execution_count": 17,
     "metadata": {},
     "output_type": "execute_result"
    }
   ],
   "source": [
    "#Checking descriptive statistics for the numerical features\n",
    "raw_df.describe()"
   ]
  },
  {
   "cell_type": "code",
   "execution_count": 18,
   "id": "5d8074d2",
   "metadata": {
    "scrolled": true
   },
   "outputs": [
    {
     "name": "stdout",
     "output_type": "stream",
     "text": [
      "<class 'pandas.core.frame.DataFrame'>\n",
      "Int64Index: 45849 entries, 0 to 45848\n",
      "Data columns (total 10 columns):\n",
      " #   Column   Non-Null Count  Dtype  \n",
      "---  ------   --------------  -----  \n",
      " 0   carat    45849 non-null  float64\n",
      " 1   cut      45849 non-null  object \n",
      " 2   color    45849 non-null  object \n",
      " 3   clarity  45849 non-null  object \n",
      " 4   depth    45849 non-null  float64\n",
      " 5   table    45849 non-null  float64\n",
      " 6   price    45849 non-null  int64  \n",
      " 7   x        45849 non-null  float64\n",
      " 8   y        45849 non-null  float64\n",
      " 9   z        45849 non-null  float64\n",
      "dtypes: float64(6), int64(1), object(3)\n",
      "memory usage: 3.8+ MB\n"
     ]
    }
   ],
   "source": [
    "#Checking datatypes and if the total of non-null values match the number of rows of the dataset\n",
    "raw_df.info()"
   ]
  },
  {
   "cell_type": "code",
   "execution_count": 19,
   "id": "16fda071",
   "metadata": {
    "scrolled": true
   },
   "outputs": [
    {
     "data": {
      "text/plain": [
       "<AxesSubplot:title={'center':'Diamond price distribution'}, ylabel='Frequency'>"
      ]
     },
     "execution_count": 19,
     "metadata": {},
     "output_type": "execute_result"
    },
    {
     "data": {
      "image/png": "[encoded data removed]",
      "text/plain": [
       "<Figure size 432x288 with 1 Axes>"
      ]
     },
     "metadata": {
      "needs_background": "light"
     },
     "output_type": "display_data"
    }
   ],
   "source": [
    "#Checking the price distribution\n",
    "raw_df.price.plot.hist(title=\"Diamond price distribution\")"
   ]
  },
  {
   "cell_type": "code",
   "execution_count": 20,
   "id": "7a4bf32c",
   "metadata": {},
   "outputs": [
    {
     "data": {
      "text/plain": [
       "<AxesSubplot:title={'center':'Cut frequency'}>"
      ]
     },
     "execution_count": 20,
     "metadata": {},
     "output_type": "execute_result"
    },
    {
     "data": {
      "image/png": "[encoded data removed]",
      "text/plain": [
       "<Figure size 432x288 with 1 Axes>"
      ]
     },
     "metadata": {
      "needs_background": "light"
     },
     "output_type": "display_data"
    }
   ],
   "source": [
    "#Checking the cut frequency\n",
    "raw_df['cut'].value_counts().plot.bar(title=\"Cut frequency\")"
   ]
  },
  {
   "cell_type": "code",
   "execution_count": 21,
   "id": "78407c46",
   "metadata": {},
   "outputs": [
    {
     "data": {
      "text/html": [
       "<div>\n",
       "<style scoped>\n",
       "    .dataframe tbody tr th:only-of-type {\n",
       "        vertical-align: middle;\n",
       "    }\n",
       "\n",
       "    .dataframe tbody tr th {\n",
       "        vertical-align: top;\n",
       "    }\n",
       "\n",
       "    .dataframe thead th {\n",
       "        text-align: right;\n",
       "    }\n",
       "</style>\n",
       "<table border=\"1\" class=\"dataframe\">\n",
       "  <thead>\n",
       "    <tr style=\"text-align: right;\">\n",
       "      <th></th>\n",
       "      <th>carat</th>\n",
       "      <th>depth</th>\n",
       "      <th>table</th>\n",
       "      <th>price</th>\n",
       "      <th>x</th>\n",
       "      <th>y</th>\n",
       "      <th>z</th>\n",
       "    </tr>\n",
       "  </thead>\n",
       "  <tbody>\n",
       "    <tr>\n",
       "      <th>carat</th>\n",
       "      <td>1.000000</td>\n",
       "      <td>0.029678</td>\n",
       "      <td>0.183533</td>\n",
       "      <td>0.921622</td>\n",
       "      <td>0.974599</td>\n",
       "      <td>0.947498</td>\n",
       "      <td>0.951264</td>\n",
       "    </tr>\n",
       "    <tr>\n",
       "      <th>depth</th>\n",
       "      <td>0.029678</td>\n",
       "      <td>1.000000</td>\n",
       "      <td>-0.292780</td>\n",
       "      <td>-0.009248</td>\n",
       "      <td>-0.024105</td>\n",
       "      <td>-0.028240</td>\n",
       "      <td>0.095962</td>\n",
       "    </tr>\n",
       "    <tr>\n",
       "      <th>table</th>\n",
       "      <td>0.183533</td>\n",
       "      <td>-0.292780</td>\n",
       "      <td>1.000000</td>\n",
       "      <td>0.129142</td>\n",
       "      <td>0.196954</td>\n",
       "      <td>0.184378</td>\n",
       "      <td>0.152333</td>\n",
       "    </tr>\n",
       "    <tr>\n",
       "      <th>price</th>\n",
       "      <td>0.921622</td>\n",
       "      <td>-0.009248</td>\n",
       "      <td>0.129142</td>\n",
       "      <td>1.000000</td>\n",
       "      <td>0.883858</td>\n",
       "      <td>0.861375</td>\n",
       "      <td>0.859190</td>\n",
       "    </tr>\n",
       "    <tr>\n",
       "      <th>x</th>\n",
       "      <td>0.974599</td>\n",
       "      <td>-0.024105</td>\n",
       "      <td>0.196954</td>\n",
       "      <td>0.883858</td>\n",
       "      <td>1.000000</td>\n",
       "      <td>0.970690</td>\n",
       "      <td>0.968763</td>\n",
       "    </tr>\n",
       "    <tr>\n",
       "      <th>y</th>\n",
       "      <td>0.947498</td>\n",
       "      <td>-0.028240</td>\n",
       "      <td>0.184378</td>\n",
       "      <td>0.861375</td>\n",
       "      <td>0.970690</td>\n",
       "      <td>1.000000</td>\n",
       "      <td>0.946979</td>\n",
       "    </tr>\n",
       "    <tr>\n",
       "      <th>z</th>\n",
       "      <td>0.951264</td>\n",
       "      <td>0.095962</td>\n",
       "      <td>0.152333</td>\n",
       "      <td>0.859190</td>\n",
       "      <td>0.968763</td>\n",
       "      <td>0.946979</td>\n",
       "      <td>1.000000</td>\n",
       "    </tr>\n",
       "  </tbody>\n",
       "</table>\n",
       "</div>"
      ],
      "text/plain": [
       "          carat     depth     table     price         x         y         z\n",
       "carat  1.000000  0.029678  0.183533  0.921622  0.974599  0.947498  0.951264\n",
       "depth  0.029678  1.000000 -0.292780 -0.009248 -0.024105 -0.028240  0.095962\n",
       "table  0.183533 -0.292780  1.000000  0.129142  0.196954  0.184378  0.152333\n",
       "price  0.921622 -0.009248  0.129142  1.000000  0.883858  0.861375  0.859190\n",
       "x      0.974599 -0.024105  0.196954  0.883858  1.000000  0.970690  0.968763\n",
       "y      0.947498 -0.028240  0.184378  0.861375  0.970690  1.000000  0.946979\n",
       "z      0.951264  0.095962  0.152333  0.859190  0.968763  0.946979  1.000000"
      ]
     },
     "execution_count": 21,
     "metadata": {},
     "output_type": "execute_result"
    }
   ],
   "source": [
    "#Checking the linear correlation between the numerical variables\n",
    "raw_df.corr()"
   ]
  },
  {
   "cell_type": "code",
   "execution_count": 22,
   "id": "ba96689a",
   "metadata": {},
   "outputs": [
    {
     "data": {
      "image/png": "[encoded data removed]",
      "text/plain": [
       "<Figure size 720x720 with 6 Axes>"
      ]
     },
     "metadata": {
      "needs_background": "light"
     },
     "output_type": "display_data"
    }
   ],
   "source": [
    "fig, ax = plt.subplots(nrows=2, ncols=3, figsize=(10,10))\n",
    "ax[0,0].boxplot(raw_df['carat'])\n",
    "ax[0,1].boxplot(raw_df['x'])\n",
    "ax[0,2].boxplot(raw_df['y'])\n",
    "ax[1,0].boxplot(raw_df['z'])\n",
    "ax[1,1].boxplot(raw_df['price'])\n",
    "plt.show()"
   ]
  },
  {
   "cell_type": "code",
   "execution_count": 23,
   "id": "13032a57",
   "metadata": {},
   "outputs": [
    {
     "data": {
      "text/plain": [
       "<AxesSubplot:xlabel='carat', ylabel='price'>"
      ]
     },
     "execution_count": 23,
     "metadata": {},
     "output_type": "execute_result"
    },
    {
     "data": {
      "image/png": "[encoded data removed]",
      "text/plain": [
       "<Figure size 432x288 with 1 Axes>"
      ]
     },
     "metadata": {
      "needs_background": "light"
     },
     "output_type": "display_data"
    }
   ],
   "source": [
    "raw_df.plot(kind=\"scatter\",x=\"carat\", y=\"price\")"
   ]
  },
  {
   "cell_type": "markdown",
   "id": "61ec4742",
   "metadata": {},
   "source": [
    "## Data preparation"
   ]
  },
  {
   "cell_type": "code",
   "execution_count": 24,
   "id": "ae5472e1",
   "metadata": {},
   "outputs": [],
   "source": [
    "#Creating the dataset for the regression problem\n",
    "df_reg = raw_df.copy()"
   ]
  },
  {
   "cell_type": "code",
   "execution_count": 25,
   "id": "23fcab53",
   "metadata": {},
   "outputs": [],
   "source": [
    "#Transforming categorical data in numerical data in the regression dataset\n",
    "enc = OrdinalEncoder()\n",
    "df_reg[[\"cut\",\"color\", \"clarity\"]] = enc.fit_transform(df[[\"cut\",\"color\", \"clarity\"]])\n"
   ]
  },
  {
   "cell_type": "code",
   "execution_count": 26,
   "id": "652e8785",
   "metadata": {},
   "outputs": [],
   "source": [
    "#Defining our independent and dependent variables for the regression problem\n",
    "independent_reg = df_reg.drop(\"price\", axis=1)\n",
    "dependent_reg = df_reg['price']"
   ]
  },
  {
   "cell_type": "code",
   "execution_count": 27,
   "id": "7af99b04",
   "metadata": {},
   "outputs": [],
   "source": [
    "#Spliting the data in training and test set for regression\n",
    "X_train_reg, X_test_reg, y_train_reg, y_test_reg = train_test_split(independent_reg, dependent_reg, test_size=0.2, \n",
    "                                                                    random_state=42)\n",
    "#Spliting the test set in test and validation for regression\n",
    "X_train_reg, X_val_reg, y_train_reg, y_val_reg = train_test_split(X_train_reg, y_train_reg, test_size=0.125, random_state=42)"
   ]
  },
  {
   "cell_type": "markdown",
   "id": "4ca60a57",
   "metadata": {},
   "source": [
    "outliers_dec = IsolationForest(random_state=0).fit(df)\n",
    "df['Isolation Forest'] = pd.Series(outliers_dec.predict(df))"
   ]
  },
  {
   "cell_type": "markdown",
   "id": "b6f5226a",
   "metadata": {},
   "source": [
    "df['Isolation Forest'].value_counts()"
   ]
  },
  {
   "cell_type": "code",
   "execution_count": 52,
   "id": "4dd71dac",
   "metadata": {},
   "outputs": [],
   "source": [
    "#Creating the dataset for the classification\n",
    "df_clf = raw_df.copy()\n",
    "df_clf = df_clf.drop([\"carat\",\"color\",\"price\",\"clarity\"], axis=1)"
   ]
  },
  {
   "cell_type": "code",
   "execution_count": 53,
   "id": "3bb2079f",
   "metadata": {},
   "outputs": [
    {
     "data": {
      "text/html": [
       "<div>\n",
       "<style scoped>\n",
       "    .dataframe tbody tr th:only-of-type {\n",
       "        vertical-align: middle;\n",
       "    }\n",
       "\n",
       "    .dataframe tbody tr th {\n",
       "        vertical-align: top;\n",
       "    }\n",
       "\n",
       "    .dataframe thead th {\n",
       "        text-align: right;\n",
       "    }\n",
       "</style>\n",
       "<table border=\"1\" class=\"dataframe\">\n",
       "  <thead>\n",
       "    <tr style=\"text-align: right;\">\n",
       "      <th></th>\n",
       "      <th>cut</th>\n",
       "      <th>depth</th>\n",
       "      <th>table</th>\n",
       "      <th>x</th>\n",
       "      <th>y</th>\n",
       "      <th>z</th>\n",
       "    </tr>\n",
       "  </thead>\n",
       "  <tbody>\n",
       "    <tr>\n",
       "      <th>0</th>\n",
       "      <td>Premium</td>\n",
       "      <td>60.2</td>\n",
       "      <td>60.0</td>\n",
       "      <td>6.09</td>\n",
       "      <td>6.04</td>\n",
       "      <td>3.65</td>\n",
       "    </tr>\n",
       "    <tr>\n",
       "      <th>1</th>\n",
       "      <td>Premium</td>\n",
       "      <td>60.7</td>\n",
       "      <td>58.0</td>\n",
       "      <td>7.04</td>\n",
       "      <td>6.99</td>\n",
       "      <td>4.26</td>\n",
       "    </tr>\n",
       "    <tr>\n",
       "      <th>2</th>\n",
       "      <td>Premium</td>\n",
       "      <td>60.5</td>\n",
       "      <td>60.0</td>\n",
       "      <td>4.77</td>\n",
       "      <td>4.81</td>\n",
       "      <td>2.90</td>\n",
       "    </tr>\n",
       "    <tr>\n",
       "      <th>3</th>\n",
       "      <td>Good</td>\n",
       "      <td>63.1</td>\n",
       "      <td>57.0</td>\n",
       "      <td>4.28</td>\n",
       "      <td>4.31</td>\n",
       "      <td>2.71</td>\n",
       "    </tr>\n",
       "    <tr>\n",
       "      <th>4</th>\n",
       "      <td>Ideal</td>\n",
       "      <td>62.2</td>\n",
       "      <td>55.0</td>\n",
       "      <td>4.30</td>\n",
       "      <td>4.32</td>\n",
       "      <td>2.68</td>\n",
       "    </tr>\n",
       "  </tbody>\n",
       "</table>\n",
       "</div>"
      ],
      "text/plain": [
       "       cut  depth  table     x     y     z\n",
       "0  Premium   60.2   60.0  6.09  6.04  3.65\n",
       "1  Premium   60.7   58.0  7.04  6.99  4.26\n",
       "2  Premium   60.5   60.0  4.77  4.81  2.90\n",
       "3     Good   63.1   57.0  4.28  4.31  2.71\n",
       "4    Ideal   62.2   55.0  4.30  4.32  2.68"
      ]
     },
     "execution_count": 53,
     "metadata": {},
     "output_type": "execute_result"
    }
   ],
   "source": [
    "df_clf.head()"
   ]
  },
  {
   "cell_type": "code",
   "execution_count": 54,
   "id": "e5c2fb1a",
   "metadata": {},
   "outputs": [],
   "source": [
    "#Standardizing the classification dataset\n",
    "df_clf[[\"depth\", \"table\",\"y\",\"x\",\"z\"]] = StandardScaler().fit_transform(df[[\"depth\", \"table\",\"y\",\"x\",\"z\"]])"
   ]
  },
  {
   "cell_type": "code",
   "execution_count": 55,
   "id": "d822cc93",
   "metadata": {},
   "outputs": [],
   "source": [
    "#Defining our independent and dependent variables for the classification problem\n",
    "independent_clf = df_clf.drop(\"cut\", axis=1)\n",
    "dependent_clf = df_clf['cut']"
   ]
  },
  {
   "cell_type": "code",
   "execution_count": 56,
   "id": "561d6e20",
   "metadata": {},
   "outputs": [],
   "source": [
    "#Splitting the data in training and test set for classification\n",
    "X_train_clf, X_test_clf, y_train_clf, y_test_clf = train_test_split(independent_clf, dependent_clf, test_size=0.2, \n",
    "                                                                    random_state=42)\n",
    "#Spliting the test set in test and validation for classification\n",
    "X_train_clf, X_val_clf, y_train_clf, y_val_clf = train_test_split(X_train_clf, y_train_clf, test_size=0.125, random_state=42)\n"
   ]
  },
  {
   "cell_type": "code",
   "execution_count": 57,
   "id": "71f7cb4c",
   "metadata": {},
   "outputs": [],
   "source": [
    "#Instanciating and fitting the regression model\n",
    "Model_reg = RandomForestRegressor(random_state=43)\n",
    "Model_reg.fit(X_train_reg, y_train_reg)\n",
    "y_pred_reg = Model_reg.predict(X_test_reg)"
   ]
  },
  {
   "cell_type": "code",
   "execution_count": 58,
   "id": "bc045022",
   "metadata": {},
   "outputs": [],
   "source": [
    "#Instanciating and fitting the classification model\n",
    "Model_clf = svm.SVC(random_state=42)\n",
    "Model_clf.fit(X_train_clf, y_train_clf)\n",
    "y_pred_clf = Model_clf.predict(X_test_clf)"
   ]
  },
  {
   "cell_type": "markdown",
   "id": "d5f56a64",
   "metadata": {},
   "source": [
    "## Evaluation"
   ]
  },
  {
   "cell_type": "code",
   "execution_count": 59,
   "id": "20929e9e",
   "metadata": {},
   "outputs": [
    {
     "data": {
      "image/png": "[encoded data removed]",
      "text/plain": [
       "<Figure size 504x504 with 1 Axes>"
      ]
     },
     "metadata": {
      "needs_background": "light"
     },
     "output_type": "display_data"
    }
   ],
   "source": [
    "# Plotting the graph of the predicted  x actual actual values of the test set (Regression problem)\n",
    "fig, ax = plt.subplots(figsize=(7, 7))\n",
    "ax.plot(y_test_reg, y_test_reg, label=\"Expected\", color = \"red\")\n",
    "ax.scatter(y_pred_reg, y_test_reg, label = \"Predicted\")\n",
    "\n",
    "ax.set(xlabel='Predicted', ylabel='Actual',\n",
    "       title='Relation: Predicted vs. Actual Value')\n",
    "\n",
    "ax.grid()\n",
    "ax.legend()\n",
    "\n",
    "plt.show()"
   ]
  },
  {
   "cell_type": "code",
   "execution_count": 60,
   "id": "c4c16d54",
   "metadata": {},
   "outputs": [
    {
     "name": "stdout",
     "output_type": "stream",
     "text": [
      "MSE : 308141.6681783197\n",
      "RMSE: 555.105096516254\n",
      "MAE : 281.9844396154645\n",
      "R2  : 0.9811548511960195\n"
     ]
    }
   ],
   "source": [
    "# Calculation main regression evaluation metrics\n",
    "mse = mean_squared_error(y_test_reg, y_pred_reg)\n",
    "print(\"MSE : \"+ str(mse))\n",
    "rmse= np.sqrt(mse)\n",
    "print(\"RMSE: \"+ str(rmse))\n",
    "mae = mean_absolute_error(y_test_reg, y_pred_reg)\n",
    "print(\"MAE : \"+ str(mae))\n",
    "r2 = r2_score(y_test_reg, y_pred_reg)\n",
    "print(\"R2  : \"+ str(r2))"
   ]
  },
  {
   "cell_type": "code",
   "execution_count": 61,
   "id": "82312d67",
   "metadata": {},
   "outputs": [
    {
     "data": {
      "image/png": "[encoded data removed]",
      "text/plain": [
       "<Figure size 432x288 with 2 Axes>"
      ]
     },
     "metadata": {
      "needs_background": "light"
     },
     "output_type": "display_data"
    }
   ],
   "source": [
    "#Ploting a confusion matrix for the test set of the classification model\n",
    "ConfusionMatrixDisplay.from_estimator(Model_clf, X_test_clf, y_test_clf)\n",
    "\n",
    "# plt.grid(visible=None)\n",
    "plt.show()"
   ]
  },
  {
   "cell_type": "code",
   "execution_count": 62,
   "id": "36d9fdc4",
   "metadata": {},
   "outputs": [
    {
     "name": "stdout",
     "output_type": "stream",
     "text": [
      "Score of the training set: 0.7572755032093226\n",
      "Score of the test set: 0.7597600872410033\n"
     ]
    }
   ],
   "source": [
    "#Printing the classification score of the training and the test set\n",
    "print (f\"Score of the training set: {Model_clf.score(X_train_clf, y_train_clf)}\")\n",
    "print (f\"Score of the test set: {Model_clf.score(X_test_clf, y_test_clf)}\")"
   ]
  },
  {
   "cell_type": "code",
   "execution_count": null,
   "id": "9d344c6d",
   "metadata": {},
   "outputs": [],
   "source": []
  }
 ],
 "metadata": {
  "kernelspec": {
   "display_name": "Python 3",
   "language": "python",
   "name": "python3"
  },
  "language_info": {
   "codemirror_mode": {
    "name": "ipython",
    "version": 3
   },
   "file_extension": ".py",
   "mimetype": "text/x-python",
   "name": "python",
   "nbconvert_exporter": "python",
   "pygments_lexer": "ipython3",
   "version": "3.8.8"
  }
 },
 "nbformat": 4,
 "nbformat_minor": 5
}
